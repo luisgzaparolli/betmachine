{
 "cells": [
  {
   "cell_type": "code",
   "execution_count": 21,
   "metadata": {},
   "outputs": [],
   "source": [
    "from selenium import webdriver\n",
    "from bs4 import BeautifulSoup\n",
    "import time\n",
    "\n",
    "driver = webdriver.Firefox(executable_path='geckodriver.exe')\n",
    "driver.get('https://www.betexplorer.com/soccer/england/premier-league/manchester-united-sheffield-utd/fTE84FQs/')\n",
    "driver.maximize_window()\n",
    "# sleep is given so that JS populate data in this time\n",
    "time.sleep(5)\n",
    "pSource= driver.page_source\n",
    "soup=BeautifulSoup(pSource)\n",
    "odds=soup.find('table',{'class':'table-main h-mb15 sortable'}).find_all('tr')\n",
    "for item in odds:\n",
    "    if item.find('a').text == 'bet365':\n",
    "        b365=item\n",
    "        break\n",
    "odds={}\n",
    "odds['odds_home']=float(b365.find_all('span',{'class':'table-main__detail-odds--hasarchive'})[0].text)\n",
    "odds['odds_draw']=float(b365.find_all('span',{'class':'table-main__detail-odds--hasarchive'})[1].text)\n",
    "odds['odds_away']=float(b365.find_all('span',{'class':'table-main__detail-odds--hasarchive'})[2].text)\n",
    "game_df=pd.DataFrame(odds, index=[0])"
   ]
  },
  {
   "cell_type": "code",
   "execution_count": 45,
   "metadata": {},
   "outputs": [],
   "source": [
    "driver = webdriver.Firefox(executable_path='geckodriver.exe')\n",
    "driver.get('https://www.betexplorer.com/soccer/england/premier-league/')\n",
    "driver.maximize_window()\n",
    "# sleep is given so that JS populate data in this time\n",
    "time.sleep(5)\n",
    "pSource= driver.page_source\n",
    "soup=BeautifulSoup(pSource)\n"
   ]
  },
  {
   "cell_type": "code",
   "execution_count": 60,
   "metadata": {
    "code_folding": []
   },
   "outputs": [
    {
     "data": {
      "text/plain": [
       "20"
      ]
     },
     "execution_count": 60,
     "metadata": {},
     "output_type": "execute_result"
    }
   ],
   "source": [
    "my_dict={}\n",
    "my_dict['Arsenal']='Arsenal'\n",
    "my_dict['Aston Villa']='Aston Villa'\n",
    "my_dict['AFC Bournemouth']='Bournemouth'\n",
    "my_dict['Brighton & Hove Albion']='Brighton'\n",
    "my_dict['Burnley']='Burnley'\n",
    "my_dict['Chelsea']='Chelsea'\n",
    "my_dict['Crystal Palace']='Crystal Palace'\n",
    "my_dict['Everton']='Everton'\n",
    "my_dict['Leicester City']='Leicester'\n",
    "my_dict['Liverpool']='Liverpool'\n",
    "my_dict['Manchester City']='Manchester City'\n",
    "my_dict['Manchester United']='Manchester Utd'\n",
    "my_dict['Norwich City']='Norwich'\n",
    "my_dict['Newcastle United']='Newcastle'\n",
    "my_dict['Norwich City']='Norwich'\n",
    "my_dict['Sheffield United']='Sheffield Utd'\n",
    "my_dict['Southampton']='Southampton'\n",
    "my_dict['Tottenham Hotspur']='Tottenham'\n",
    "my_dict['Watford']='Watford'\n",
    "my_dict['West Ham United']='West Ham'\n",
    "my_dict['Wolverhampton Wanderers']='Wolves'\n",
    "len(my_dict)\n",
    "with open(PIK, \"wb\") as f:\n",
    "    pickle.dump(len(data), f)"
   ]
  },
  {
   "cell_type": "code",
   "execution_count": 64,
   "metadata": {},
   "outputs": [],
   "source": [
    "import pickle\n",
    "with open ('previous_odds.sav', 'wb') as fp:\n",
    "    pickle.dump(my_dict,fp)"
   ]
  }
 ],
 "metadata": {
  "hide_input": false,
  "kernelspec": {
   "display_name": "Python 3",
   "language": "python",
   "name": "python3"
  },
  "language_info": {
   "codemirror_mode": {
    "name": "ipython",
    "version": 3
   },
   "file_extension": ".py",
   "mimetype": "text/x-python",
   "name": "python",
   "nbconvert_exporter": "python",
   "pygments_lexer": "ipython3",
   "version": "3.7.4"
  },
  "toc": {
   "base_numbering": 1,
   "nav_menu": {},
   "number_sections": true,
   "sideBar": true,
   "skip_h1_title": false,
   "title_cell": "Table of Contents",
   "title_sidebar": "Contents",
   "toc_cell": false,
   "toc_position": {},
   "toc_section_display": true,
   "toc_window_display": false
  },
  "varInspector": {
   "cols": {
    "lenName": 16,
    "lenType": 16,
    "lenVar": 40
   },
   "kernels_config": {
    "python": {
     "delete_cmd_postfix": "",
     "delete_cmd_prefix": "del ",
     "library": "var_list.py",
     "varRefreshCmd": "print(var_dic_list())"
    },
    "r": {
     "delete_cmd_postfix": ") ",
     "delete_cmd_prefix": "rm(",
     "library": "var_list.r",
     "varRefreshCmd": "cat(var_dic_list()) "
    }
   },
   "types_to_exclude": [
    "module",
    "function",
    "builtin_function_or_method",
    "instance",
    "_Feature"
   ],
   "window_display": false
  }
 },
 "nbformat": 4,
 "nbformat_minor": 2
}
