{
 "cells": [
  {
   "cell_type": "code",
   "execution_count": 1,
   "metadata": {},
   "outputs": [],
   "source": [
    "from src.params import Params\n",
    "import numpy as np\n",
    "import pandas as pd\n",
    "from selenium import webdriver\n",
    "import time\n",
    "params=Params()"
   ]
  },
  {
   "cell_type": "code",
   "execution_count": 30,
   "metadata": {},
   "outputs": [],
   "source": [
    "dfs=pd.read_html('https://footystats.org/ukraine/persha-liga/fixtures')\n",
    "times=sorted(dfs[0]['Team'].unique())"
   ]
  },
  {
   "cell_type": "code",
   "execution_count": 31,
   "metadata": {},
   "outputs": [
    {
     "data": {
      "text/plain": [
       "['Ahrobiznes Volochysk',\n",
       " 'Avanhard',\n",
       " 'Balkany Zorya',\n",
       " 'Cherkashchyna-Akademiya',\n",
       " 'Chornomorets',\n",
       " 'Hirnyk-Sport',\n",
       " 'Inhulets',\n",
       " 'Kremin',\n",
       " 'Metalist 1925 Kharkiv',\n",
       " 'Metalurh Zaporizhya',\n",
       " 'Minai',\n",
       " 'Mykolaiv',\n",
       " 'Obolon-Brovar',\n",
       " 'Prykarpattia',\n",
       " 'Rukh Vynnyky',\n",
       " 'Volyn']"
      ]
     },
     "execution_count": 31,
     "metadata": {},
     "output_type": "execute_result"
    }
   ],
   "source": [
    "times"
   ]
  },
  {
   "cell_type": "code",
   "execution_count": 32,
   "metadata": {},
   "outputs": [],
   "source": [
    "from bs4 import BeautifulSoup\n",
    "driver = webdriver.Firefox(executable_path='./src/geckodriver.exe')\n",
    "driver.get('https://www.betexplorer.com/soccer/ukraine/persha-liga/')\n",
    "time.sleep(3)\n",
    "html = driver.page_source\n",
    "soup = BeautifulSoup(html, 'lxml')\n",
    "driver.quit()"
   ]
  },
  {
   "cell_type": "code",
   "execution_count": 33,
   "metadata": {},
   "outputs": [],
   "source": [
    "dfs=pd.read_html(html)\n",
    "odds=sorted(list(dfs[1]['Team']))"
   ]
  },
  {
   "cell_type": "code",
   "execution_count": 34,
   "metadata": {},
   "outputs": [
    {
     "data": {
      "text/plain": [
       "{'Ahrobiznes Volochysk': 'Ahrobiznes Volochysk',\n",
       " 'Avanhard': 'Balkany',\n",
       " 'Balkany Zorya': 'Ch. Odessa',\n",
       " 'Cherkashchyna-Akademiya': 'Cherkashchyna',\n",
       " 'Chornomorets': 'Hirnyk-Sport',\n",
       " 'Hirnyk-Sport': 'Inhulets',\n",
       " 'Inhulets': 'Kramatorsk',\n",
       " 'Kremin': 'Kremin',\n",
       " 'Metalist 1925 Kharkiv': 'MFC Metalurh',\n",
       " 'Metalurh Zaporizhya': 'Metalist 1925',\n",
       " 'Minai': 'Minaj',\n",
       " 'Mykolaiv': 'Mykolaiv',\n",
       " 'Obolon-Brovar': 'Obolon Kyiv',\n",
       " 'Prykarpattia': 'Prykarpattya',\n",
       " 'Rukh Vynnyky': 'Rukh Lviv',\n",
       " 'Volyn': 'Volyn Lutsk'}"
      ]
     },
     "execution_count": 34,
     "metadata": {},
     "output_type": "execute_result"
    }
   ],
   "source": [
    "dict(zip(times,odds))"
   ]
  }
 ],
 "metadata": {
  "hide_input": false,
  "kernelspec": {
   "display_name": "Python 3",
   "language": "python",
   "name": "python3"
  },
  "language_info": {
   "codemirror_mode": {
    "name": "ipython",
    "version": 3
   },
   "file_extension": ".py",
   "mimetype": "text/x-python",
   "name": "python",
   "nbconvert_exporter": "python",
   "pygments_lexer": "ipython3",
   "version": "3.7.4"
  },
  "toc": {
   "base_numbering": 1,
   "nav_menu": {},
   "number_sections": true,
   "sideBar": true,
   "skip_h1_title": false,
   "title_cell": "Table of Contents",
   "title_sidebar": "Contents",
   "toc_cell": false,
   "toc_position": {},
   "toc_section_display": true,
   "toc_window_display": false
  },
  "varInspector": {
   "cols": {
    "lenName": 16,
    "lenType": 16,
    "lenVar": 40
   },
   "kernels_config": {
    "python": {
     "delete_cmd_postfix": "",
     "delete_cmd_prefix": "del ",
     "library": "var_list.py",
     "varRefreshCmd": "print(var_dic_list())"
    },
    "r": {
     "delete_cmd_postfix": ") ",
     "delete_cmd_prefix": "rm(",
     "library": "var_list.r",
     "varRefreshCmd": "cat(var_dic_list()) "
    }
   },
   "types_to_exclude": [
    "module",
    "function",
    "builtin_function_or_method",
    "instance",
    "_Feature"
   ],
   "window_display": false
  }
 },
 "nbformat": 4,
 "nbformat_minor": 2
}
