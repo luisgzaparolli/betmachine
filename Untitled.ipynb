{
 "cells": [
  {
   "cell_type": "code",
   "execution_count": 1,
   "metadata": {},
   "outputs": [],
   "source": [
    "from src.params import Params\n",
    "import numpy as np\n",
    "import pandas as pd\n",
    "from selenium import webdriver\n",
    "import time\n",
    "params=Params()"
   ]
  },
  {
   "cell_type": "code",
   "execution_count": 21,
   "metadata": {},
   "outputs": [
    {
     "data": {
      "text/plain": [
       "array(['Kawasaki Frontale', 'Urawa Reds', 'Cerezo Osaka', 'Tokyo',\n",
       "       'Nagoya Grampus', 'Sanfrecce Hiroshima', 'Oita Trinita',\n",
       "       'Gamba Osaka', 'Consadole Sapporo', 'Yokohama', 'Vegalta Sendai',\n",
       "       'Vissel Kobe', 'Yokohama F. Marinos', 'Kashiwa Reysol',\n",
       "       'Sagan Tosu', 'Shonan Bellmare', 'Shimizu S-Pulse',\n",
       "       'Kashima Antlers'], dtype=object)"
      ]
     },
     "execution_count": 21,
     "metadata": {},
     "output_type": "execute_result"
    }
   ],
   "source": [
    "dfs_x=pd.read_html('https://footystats.org/japan/j1-league/fixtures')\n",
    "times=dfs_x[0]['Team'].unique()\n",
    "times"
   ]
  },
  {
   "cell_type": "code",
   "execution_count": 22,
   "metadata": {},
   "outputs": [],
   "source": [
    "from bs4 import BeautifulSoup\n",
    "driver = webdriver.Firefox(executable_path='./src/geckodriver.exe')\n",
    "driver.get('https://www.betexplorer.com/soccer/japan/j1-league/')\n",
    "time.sleep(3)\n",
    "html = driver.page_source\n",
    "soup = BeautifulSoup(html, 'lxml')\n",
    "driver.quit()"
   ]
  },
  {
   "cell_type": "code",
   "execution_count": 23,
   "metadata": {},
   "outputs": [],
   "source": [
    "dfs=pd.read_html(html)\n",
    "odds=list(dfs[1]['Team'])"
   ]
  },
  {
   "cell_type": "code",
   "execution_count": 24,
   "metadata": {},
   "outputs": [
    {
     "data": {
      "text/plain": [
       "{'Kawasaki Frontale': 'Kawasaki Frontale',\n",
       " 'Urawa': 'Urawa Reds',\n",
       " 'C-Osaka': 'Cerezo Osaka',\n",
       " 'FC Tokyo': 'Tokyo',\n",
       " 'Nagoya': 'Nagoya Grampus',\n",
       " 'Hiroshima': 'Sanfrecce Hiroshima',\n",
       " 'Oita': 'Oita Trinita',\n",
       " 'G-Osaka': 'Gamba Osaka',\n",
       " 'Sapporo': 'Consadole Sapporo',\n",
       " 'Yokohama': 'Yokohama',\n",
       " 'Vegalta Sendai': 'Vegalta Sendai',\n",
       " 'Kobe': 'Vissel Kobe',\n",
       " 'Yokohama M.': 'Yokohama F. Marinos',\n",
       " 'Kashiwa': 'Kashiwa Reysol',\n",
       " 'Sagan Tosu': 'Sagan Tosu',\n",
       " 'Shonan': 'Shonan Bellmare',\n",
       " 'Shimizu': 'Shimizu S-Pulse',\n",
       " 'Kashima': 'Kashima Antlers'}"
      ]
     },
     "execution_count": 24,
     "metadata": {},
     "output_type": "execute_result"
    }
   ],
   "source": [
    "dict(zip(odds,times))"
   ]
  }
 ],
 "metadata": {
  "hide_input": false,
  "kernelspec": {
   "display_name": "Python 3",
   "language": "python",
   "name": "python3"
  },
  "language_info": {
   "codemirror_mode": {
    "name": "ipython",
    "version": 3
   },
   "file_extension": ".py",
   "mimetype": "text/x-python",
   "name": "python",
   "nbconvert_exporter": "python",
   "pygments_lexer": "ipython3",
   "version": "3.7.4"
  },
  "toc": {
   "base_numbering": 1,
   "nav_menu": {},
   "number_sections": true,
   "sideBar": true,
   "skip_h1_title": false,
   "title_cell": "Table of Contents",
   "title_sidebar": "Contents",
   "toc_cell": false,
   "toc_position": {},
   "toc_section_display": true,
   "toc_window_display": false
  },
  "varInspector": {
   "cols": {
    "lenName": 16,
    "lenType": 16,
    "lenVar": 40
   },
   "kernels_config": {
    "python": {
     "delete_cmd_postfix": "",
     "delete_cmd_prefix": "del ",
     "library": "var_list.py",
     "varRefreshCmd": "print(var_dic_list())"
    },
    "r": {
     "delete_cmd_postfix": ") ",
     "delete_cmd_prefix": "rm(",
     "library": "var_list.r",
     "varRefreshCmd": "cat(var_dic_list()) "
    }
   },
   "types_to_exclude": [
    "module",
    "function",
    "builtin_function_or_method",
    "instance",
    "_Feature"
   ],
   "window_display": false
  }
 },
 "nbformat": 4,
 "nbformat_minor": 2
}
