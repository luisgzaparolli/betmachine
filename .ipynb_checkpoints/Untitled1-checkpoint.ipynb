{
 "cells": [
  {
   "cell_type": "code",
   "execution_count": 1,
   "metadata": {},
   "outputs": [],
   "source": [
    "import pandas as pd\n",
    "import pickle\n",
    "from src.params import Params\n",
    "import warnings\n",
    "warnings.filterwarnings('ignore')"
   ]
  },
  {
   "cell_type": "code",
   "execution_count": 4,
   "metadata": {},
   "outputs": [],
   "source": [
    "params=Params()"
   ]
  },
  {
   "cell_type": "code",
   "execution_count": 3,
   "metadata": {},
   "outputs": [],
   "source": [
    "def data_prep(df, league, params):\n",
    "    def encoder_result(x):\n",
    "        if x == 'Home' or x == 'Win':\n",
    "            return 1\n",
    "        elif x == 'Draw':\n",
    "            return 0\n",
    "        elif x == 'Away' or x == 'Lose':\n",
    "            return -1\n",
    "        else:\n",
    "            return x\n",
    "\n",
    "    def encoder_teams(x, league, params):\n",
    "        teams = params.list_teams[ league ]\n",
    "        return teams.index(x)\n",
    "\n",
    "    df = df.dropna()\n",
    "    df.drop(columns=[ 'link' ], inplace=True)\n",
    "    try:\n",
    "        df[ 'result' ] = df[ 'result' ].apply(lambda x: encoder_result(x))\n",
    "    except:\n",
    "        pass\n",
    "    df[ 'home_team' ] = df[ 'home_team' ].apply(lambda x: encoder_teams(x, league, params))\n",
    "    df[ 'away_team' ] = df[ 'away_team' ].apply(lambda x: encoder_teams(x, league, params))\n",
    "    df[ 'home_form_1' ] = df[ 'home_form_1' ].apply(lambda x: encoder_result(x))\n",
    "    df[ 'home_form_2' ] = df[ 'home_form_2' ].apply(lambda x: encoder_result(x))\n",
    "    df[ 'home_form_3' ] = df[ 'home_form_3' ].apply(lambda x: encoder_result(x))\n",
    "    df[ 'home_form_4' ] = df[ 'home_form_4' ].apply(lambda x: encoder_result(x))\n",
    "    df[ 'home_form_5' ] = df[ 'home_form_5' ].apply(lambda x: encoder_result(x))\n",
    "    df[ 'away_form_1' ] = df[ 'away_form_1' ].apply(lambda x: encoder_result(x))\n",
    "    df[ 'away_form_2' ] = df[ 'away_form_2' ].apply(lambda x: encoder_result(x))\n",
    "    df[ 'away_form_3' ] = df[ 'away_form_3' ].apply(lambda x: encoder_result(x))\n",
    "    df[ 'away_form_4' ] = df[ 'away_form_4' ].apply(lambda x: encoder_result(x))\n",
    "    df[ 'away_form_5' ] = df[ 'away_form_5' ].apply(lambda x: encoder_result(x))\n",
    "    return df\n"
   ]
  },
  {
   "cell_type": "code",
   "execution_count": 38,
   "metadata": {},
   "outputs": [
    {
     "name": "stdout",
     "output_type": "stream",
     "text": [
      "serie-a: 0.6742671009771987\n",
      "bundesliga: 0.39464882943143814\n",
      "championship: 0.28313253012048195\n",
      "segunda_division: 0.7053140096618358\n",
      "serie-b: 0.6123778501628665\n"
     ]
    }
   ],
   "source": [
    "def teste(league):\n",
    "    df=pd.read_csv(f'./data/{league}/games.csv')\n",
    "    with open(f'./data/{league}/model.pkl', 'rb') as fp:\n",
    "        model = pickle.load(fp)\n",
    "    new_df = df.copy()\n",
    "    new_df = data_prep(df, league, params)\n",
    "    new_df.drop(columns=['result'])\n",
    "    score=model.score(new_df.drop(columns=['result']),new_df['result'])\n",
    "    print(f'{league}: {score}')\n",
    "    \n",
    "leagues=params.leagues\n",
    "for league in leagues:\n",
    "    try:\n",
    "        teste(league)\n",
    "    except:\n",
    "        pass"
   ]
  }
 ],
 "metadata": {
  "hide_input": false,
  "kernelspec": {
   "display_name": "Python 3",
   "language": "python",
   "name": "python3"
  },
  "toc": {
   "base_numbering": 1,
   "nav_menu": {},
   "number_sections": true,
   "sideBar": true,
   "skip_h1_title": false,
   "title_cell": "Table of Contents",
   "title_sidebar": "Contents",
   "toc_cell": false,
   "toc_position": {},
   "toc_section_display": true,
   "toc_window_display": false
  },
  "varInspector": {
   "cols": {
    "lenName": 16,
    "lenType": 16,
    "lenVar": 40
   },
   "kernels_config": {
    "python": {
     "delete_cmd_postfix": "",
     "delete_cmd_prefix": "del ",
     "library": "var_list.py",
     "varRefreshCmd": "print(var_dic_list())"
    },
    "r": {
     "delete_cmd_postfix": ") ",
     "delete_cmd_prefix": "rm(",
     "library": "var_list.r",
     "varRefreshCmd": "cat(var_dic_list()) "
    }
   },
   "types_to_exclude": [
    "module",
    "function",
    "builtin_function_or_method",
    "instance",
    "_Feature"
   ],
   "window_display": false
  }
 },
 "nbformat": 4,
 "nbformat_minor": 2
}
